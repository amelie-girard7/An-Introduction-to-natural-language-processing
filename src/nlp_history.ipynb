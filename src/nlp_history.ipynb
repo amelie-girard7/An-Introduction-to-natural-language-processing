import matplotlib.pyplot as plt
from datetime import datetime

# Define the events and their corresponding dates
events = [
    "Turing Test proposal",
    "Chomsky's Syntactic Structures",
    "ALPAC report",
    "SHRDLU development",
    "Statistical methods shift",
    "Statistical NLP dominance",
    "Annotated corpora use",
    "Introduction of word2vec",
    "Transformer model architecture",
    "Large language models (GPT-3)"
]

dates = [
    "1950",
    "1957",
    "1966",
    "1970",
    "1980",
    "1990",
    "1997",
    "2013",
    "2018",
    "2020"
]

# Convert string dates to datetime objects
dates = [datetime.strptime(year, "%Y") for year in dates]

# Create the plot
plt.figure(figsize=(10, 8))
plt.title("Timeline of Key Events in NLP History")
plt.plot(dates, events, marker='o')

# Improve layout
plt.tight_layout()

# Rotate and align the tick labels so they look better
plt.gcf().autofmt_xdate()

# Display the plot
plt.show()
